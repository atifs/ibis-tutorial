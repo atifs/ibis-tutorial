{
 "cells": [
  {
   "cell_type": "code",
   "execution_count": null,
   "id": "a768a549",
   "metadata": {},
   "outputs": [],
   "source": [
    "import ibis\n",
    "from ibis import _\n",
    "\n",
    "ibis.options.interactive = True"
   ]
  },
  {
   "cell_type": "code",
   "execution_count": null,
   "id": "8812fad1-9f06-4c7e-9c7d-9b9de1967744",
   "metadata": {},
   "outputs": [],
   "source": [
    "filenames = [\n",
    "    \"deps.parquet\",\n",
    "    \"maintainers.parquet\",\n",
    "    \"package_urls.parquet\",\n",
    "    \"packages.parquet\",\n",
    "    \"scorecard_checks.parquet\",\n",
    "    \"wheels.parquet\",\n",
    "]"
   ]
  },
  {
   "cell_type": "code",
   "execution_count": null,
   "id": "3293e6c3-a1b5-474b-b39a-8d10055df344",
   "metadata": {},
   "outputs": [],
   "source": [
    "from pathlib import Path"
   ]
  },
  {
   "cell_type": "code",
   "execution_count": null,
   "id": "72eac630-fd7a-48ac-94ab-141b58f27adf",
   "metadata": {},
   "outputs": [],
   "source": [
    "con = ibis.duckdb.connect()"
   ]
  },
  {
   "cell_type": "code",
   "execution_count": null,
   "id": "5b27aed9-d181-4b09-b29d-47f710093b75",
   "metadata": {},
   "outputs": [],
   "source": [
    "folder = Path(\"pypi\")\n",
    "for filename in filenames:\n",
    "    path = folder / filename\n",
    "    con.read_parquet(path, table_name=filename.split(\".\")[0])"
   ]
  },
  {
   "cell_type": "code",
   "execution_count": null,
   "id": "19e1a36e",
   "metadata": {},
   "outputs": [],
   "source": [
    "con.list_tables()"
   ]
  },
  {
   "cell_type": "code",
   "execution_count": null,
   "id": "b063ad0d",
   "metadata": {},
   "outputs": [],
   "source": [
    "deps = con.tables.deps\n",
    "\n",
    "deps"
   ]
  },
  {
   "cell_type": "code",
   "execution_count": null,
   "id": "f3fa22cd",
   "metadata": {},
   "outputs": [],
   "source": [
    "maintainers = con.tables.maintainers\n",
    "\n",
    "maintainers"
   ]
  },
  {
   "cell_type": "code",
   "execution_count": null,
   "id": "6d1c2451",
   "metadata": {},
   "outputs": [],
   "source": [
    "packages = con.tables.packages\n",
    "\n",
    "packages"
   ]
  },
  {
   "cell_type": "markdown",
   "id": "941cb55b",
   "metadata": {},
   "source": [
    "### Total number of packages"
   ]
  },
  {
   "cell_type": "code",
   "execution_count": null,
   "id": "9867857f",
   "metadata": {},
   "outputs": [],
   "source": [
    "packages.count()"
   ]
  },
  {
   "cell_type": "markdown",
   "id": "51dec6e1",
   "metadata": {},
   "source": [
    "### Package counts by release day (sunday == 0)"
   ]
  },
  {
   "cell_type": "code",
   "execution_count": null,
   "id": "6915cf63",
   "metadata": {},
   "outputs": [],
   "source": [
    "release_days = (\n",
    "    packages.dropna(\"last_uploaded_at\")\n",
    "    .group_by(_.last_uploaded_at.day_of_week.index().name(\"day\"))\n",
    "    .count()\n",
    ")\n",
    "\n",
    "release_days"
   ]
  },
  {
   "cell_type": "markdown",
   "id": "18f28863",
   "metadata": {},
   "source": [
    "### What maintainers have the most downloads?"
   ]
  },
  {
   "cell_type": "code",
   "execution_count": null,
   "id": "11134b38",
   "metadata": {
    "scrolled": true
   },
   "outputs": [],
   "source": [
    "top_maintainers_by_downloads = (\n",
    "    maintainers.join(packages, [(\"package_name\", \"name\")])\n",
    "    .group_by(\"name\")\n",
    "    .aggregate(downloads=_.downloads.sum())\n",
    "    .select(\"name\", \"downloads\")\n",
    "    .order_by(ibis.desc(\"downloads\"))\n",
    "    .limit(10)\n",
    ")\n",
    "\n",
    "top_maintainers_by_downloads"
   ]
  },
  {
   "cell_type": "markdown",
   "id": "7659d798",
   "metadata": {},
   "source": [
    "### What packages depend on ibis-framework"
   ]
  },
  {
   "cell_type": "code",
   "execution_count": null,
   "id": "7ad82673",
   "metadata": {},
   "outputs": [],
   "source": [
    "ibis_dependents = (\n",
    "    deps.filter(_.dep_name == \"ibis-framework\").select(\"package_name\").distinct()\n",
    ")\n",
    "\n",
    "ibis_dependents"
   ]
  },
  {
   "cell_type": "markdown",
   "id": "e82f5d53",
   "metadata": {},
   "source": [
    "### What packages depend on things I maintain?"
   ]
  },
  {
   "cell_type": "code",
   "execution_count": null,
   "id": "ce1c5c4a",
   "metadata": {},
   "outputs": [],
   "source": [
    "my_dependents = (\n",
    "    deps.join(maintainers.filter(_.name == \"gforsyth\"), [(\"dep_name\", \"package_name\")])\n",
    "    .select(package=\"dep_name\", dependent=\"package_name\")\n",
    "    .distinct()\n",
    ")\n",
    "\n",
    "my_dependents"
   ]
  },
  {
   "cell_type": "markdown",
   "id": "95fad7e3",
   "metadata": {},
   "source": [
    "### What packages are commonly used by `test*` extras?"
   ]
  },
  {
   "cell_type": "code",
   "execution_count": null,
   "id": "f0e72ca4",
   "metadata": {},
   "outputs": [],
   "source": [
    "top_test_deps = (\n",
    "    deps.filter(_.extra.startswith(\"test\"))\n",
    "    .group_by(\"dep_name\")\n",
    "    .agg(count=_.count())\n",
    "    .order_by(ibis.desc(\"count\"))\n",
    "    .limit(10)\n",
    ")\n",
    "\n",
    "top_test_deps"
   ]
  },
  {
   "cell_type": "markdown",
   "id": "c299bf0d",
   "metadata": {},
   "source": [
    "### What are the top pytest extensions?"
   ]
  },
  {
   "cell_type": "code",
   "execution_count": null,
   "id": "c518d66e",
   "metadata": {},
   "outputs": [],
   "source": [
    "top_pytest_extensions = (\n",
    "    deps.filter(_.dep_name.startswith(\"pytest-\"))\n",
    "    .select(\"package_name\", \"dep_name\")\n",
    "    .distinct()\n",
    "    .group_by(\"dep_name\")\n",
    "    .agg(count=_.count())\n",
    "    .order_by(ibis.desc(\"count\"))\n",
    "    .limit(10)\n",
    ")\n",
    "\n",
    "top_pytest_extensions"
   ]
  },
  {
   "cell_type": "code",
   "execution_count": null,
   "id": "f0bd281f-1b86-435c-bbf0-8feffa403f32",
   "metadata": {},
   "outputs": [],
   "source": [
    "(\n",
    "    deps.filter(_.dep_name.startswith(\"pytest-\"))\n",
    "    .group_by(\"dep_name\")\n",
    "    .agg(dep_count=_.package_name.nunique())\n",
    "    .order_by(_.dep_count.desc())\n",
    "    .limit(10)\n",
    ")"
   ]
  },
  {
   "cell_type": "code",
   "execution_count": null,
   "id": "4b169c91-5017-4cef-afbe-247a36967a47",
   "metadata": {},
   "outputs": [],
   "source": [
    "deps.filter(_.dep_name.startswith(\"pytest-\")).dep_name.topk(\n",
    "    10, by=lambda t: t.package_name.nunique()\n",
    ")"
   ]
  },
  {
   "cell_type": "markdown",
   "id": "83257a65",
   "metadata": {},
   "source": [
    "### What packages are the most depended on"
   ]
  },
  {
   "cell_type": "code",
   "execution_count": null,
   "id": "0644ad79",
   "metadata": {},
   "outputs": [],
   "source": [
    "most_dependents = (\n",
    "    deps.select(\"package_name\", \"dep_name\")\n",
    "    .distinct()\n",
    "    .group_by(\"dep_name\")\n",
    "    .agg(dep_count=_.count())\n",
    "    .order_by(ibis.desc(\"dep_count\"))\n",
    "    .limit(10)\n",
    ")\n",
    "\n",
    "most_dependents"
   ]
  },
  {
   "cell_type": "code",
   "execution_count": null,
   "id": "a0d0143e-49fc-43a5-8ad1-524a4aec8d00",
   "metadata": {},
   "outputs": [],
   "source": [
    "most_dependents = (\n",
    "    deps.group_by(\"dep_name\")\n",
    "    .agg(dep_count=_.package_name.nunique())\n",
    "    .order_by(ibis.desc(\"dep_count\"))\n",
    "    .limit(10)\n",
    ")\n",
    "\n",
    "most_dependents"
   ]
  },
  {
   "cell_type": "markdown",
   "id": "11a36252",
   "metadata": {},
   "source": [
    "### Histogram of maintainer count"
   ]
  },
  {
   "cell_type": "code",
   "execution_count": null,
   "id": "a491e55a",
   "metadata": {},
   "outputs": [],
   "source": [
    "maintainer_counts = (\n",
    "    maintainers.group_by(\"package_name\")\n",
    "    .agg(maintainers=_.count())\n",
    "    .group_by(\"maintainers\")\n",
    "    .agg(count=_.count())\n",
    "    .order_by(_.maintainers)\n",
    ")\n",
    "\n",
    "maintainer_counts"
   ]
  },
  {
   "cell_type": "code",
   "execution_count": null,
   "id": "0b8cfd93-1eff-4416-93b7-6eefb9ae8aa4",
   "metadata": {},
   "outputs": [],
   "source": [
    "import altair as alt\n",
    "\n",
    "alt.__version__"
   ]
  },
  {
   "cell_type": "code",
   "execution_count": null,
   "id": "f9d5df9f-d2a4-4394-8254-0484145b78d7",
   "metadata": {},
   "outputs": [],
   "source": [
    "chart = (\n",
    "    alt.Chart(maintainer_counts)\n",
    "    .mark_bar()\n",
    "    .encode(x=\"maintainers\", y=alt.Y(\"count\", scale=alt.Scale(type=\"log\")))\n",
    ")\n",
    "\n",
    "chart"
   ]
  },
  {
   "cell_type": "markdown",
   "id": "02fc5d80",
   "metadata": {},
   "source": [
    "Followup question - what's up with the spike at 12?"
   ]
  },
  {
   "cell_type": "markdown",
   "id": "d751b1e2-4f54-47c1-bdc1-6ee79bee09fd",
   "metadata": {},
   "source": [
    "Start by looking at just the packages with 12 maintainers\n",
    "\n",
    "Then make the repr a bit longer\n",
    "\n",
    "Then look for patterns"
   ]
  },
  {
   "cell_type": "code",
   "execution_count": null,
   "id": "e822c044-4d1b-48c9-a22e-3d0264eb7588",
   "metadata": {},
   "outputs": [],
   "source": [
    "maintainer_counts = (\n",
    "    maintainers.group_by(\"package_name\")\n",
    "    .agg(maintainers=_.count())\n",
    "    .filter([_.maintainers == 12, _.package_name.startswith(\"ftw\")])\n",
    ")\n",
    "\n",
    "ibis.options.repr.interactive.max_rows = 20\n",
    "maintainer_counts.count()"
   ]
  },
  {
   "cell_type": "markdown",
   "id": "4c026015",
   "metadata": {},
   "source": [
    "### What are the most common package prefixes?"
   ]
  },
  {
   "cell_type": "code",
   "execution_count": null,
   "id": "b4778dcd",
   "metadata": {},
   "outputs": [],
   "source": [
    "common_prefixes = (\n",
    "    maintainers.group_by(\"package_name\")\n",
    "    .agg(maintainers=_.count())\n",
    "    .filter(_.maintainers == 12)\n",
    "    .package_name.re_extract(r\"^(\\w*)-?\", 1)\n",
    "    .name(\"prefix\")\n",
    "    .topk(5)\n",
    ")\n",
    "\n",
    "common_prefixes"
   ]
  },
  {
   "cell_type": "markdown",
   "id": "d558ddb0",
   "metadata": {},
   "source": [
    "### What packages have few downloads but lots of maintainers?\n",
    "\n",
    "Looking for \"clubs\", as described by Nadia Eghbal's \"Working in Public\"."
   ]
  },
  {
   "cell_type": "code",
   "execution_count": null,
   "id": "f43ee07e",
   "metadata": {},
   "outputs": [],
   "source": [
    "packages.filter(_.downloads > 0).downloads.min()"
   ]
  },
  {
   "cell_type": "code",
   "execution_count": null,
   "id": "74cd818b",
   "metadata": {},
   "outputs": [],
   "source": [
    "import datetime\n",
    "\n",
    "# These prefixes are all \"zope\" related, and are so prolific that they mask anything interesting.\n",
    "# Zope used to be really popular, but downloads have waned. We'll ignore them for now since they\n",
    "# mask anything else interesting.\n",
    "ignore_prefixes = [\"zope\", \"zc\", \"z3c\", \"collective\", \"plone\", \"products\"]\n",
    "\n",
    "clubs = (\n",
    "    maintainers.group_by(\"package_name\")\n",
    "    .agg(maintainers=_.count())\n",
    "    .join(\n",
    "        packages.filter(\n",
    "            [\n",
    "                _.downloads == 0,\n",
    "                _.last_uploaded_at\n",
    "                > (datetime.datetime.now() - datetime.timedelta(days=365)),\n",
    "                *(~_.name.startswith(p) for p in ignore_prefixes),\n",
    "            ]\n",
    "        ),\n",
    "        [(\"package_name\", \"name\")],\n",
    "    )\n",
    "    .order_by([ibis.desc(\"maintainers\")])\n",
    "    .select(\"package_name\", \"maintainers\")\n",
    "    .limit(10)\n",
    ")\n",
    "\n",
    "clubs"
   ]
  },
  {
   "cell_type": "markdown",
   "id": "1c06e557",
   "metadata": {},
   "source": [
    "### Find the top 20 most depended on packages that have only one maintainer"
   ]
  },
  {
   "cell_type": "code",
   "execution_count": null,
   "id": "46fc05d3",
   "metadata": {},
   "outputs": [],
   "source": [
    "bus_factor_1 = (\n",
    "    maintainers.group_by(\"package_name\")\n",
    "    .agg(maintainer_count=_.count())\n",
    "    .filter(_.maintainer_count == 1)\n",
    "    .join(maintainers, \"package_name\")\n",
    "    .join(\n",
    "        (\n",
    "            deps.select(\"package_name\", \"dep_name\")\n",
    "            .distinct()\n",
    "            .group_by(\"dep_name\")\n",
    "            .agg(dep_count=_.count())\n",
    "        ),\n",
    "        [(\"package_name\", \"dep_name\")],\n",
    "    )\n",
    "    .select(\"package_name\", \"name\", \"dep_count\")\n",
    "    .order_by(ibis.desc(\"dep_count\"))\n",
    "    .limit(10)\n",
    ")\n",
    "\n",
    "bus_factor_1"
   ]
  },
  {
   "cell_type": "code",
   "execution_count": null,
   "id": "3b7ae04e-2a9d-41a4-876c-4344804e80a1",
   "metadata": {},
   "outputs": [],
   "source": [
    "deps.select(\"package_name\", \"dep_name\").distinct().group_by(\"dep_name\").agg(\n",
    "    dep_count=_.count()\n",
    ")"
   ]
  },
  {
   "cell_type": "code",
   "execution_count": null,
   "id": "b0626e62-a0c6-408d-b96a-3ca2a42c5aa2",
   "metadata": {},
   "outputs": [],
   "source": [
    "deps.group_by(\"dep_name\").agg(dep_count=_.package_name.nunique())"
   ]
  },
  {
   "cell_type": "markdown",
   "id": "2612bd02",
   "metadata": {},
   "source": [
    "### pypi users who have the most distinct collaborators"
   ]
  },
  {
   "cell_type": "code",
   "execution_count": null,
   "id": "fce08fc0",
   "metadata": {},
   "outputs": [],
   "source": [
    "most_collaborators = (\n",
    "    maintainers.join(maintainers, \"package_name\")\n",
    "    .select(\"name\", \"name_right\")\n",
    "    .filter(_.name != _.name_right)\n",
    "    .distinct()\n",
    "    .group_by(\"name\")\n",
    "    .agg(n_collaborators=_.count())\n",
    "    .order_by(ibis.desc(\"n_collaborators\"))\n",
    "    .limit(10)\n",
    ")\n",
    "\n",
    "most_collaborators"
   ]
  },
  {
   "cell_type": "code",
   "execution_count": null,
   "id": "48b95579-0333-4504-beb3-e8f6457c3050",
   "metadata": {},
   "outputs": [],
   "source": [
    "maintainers.join(maintainers, \"package_name\").filter(_.name != _.name_right).group_by(\n",
    "    \"name\"\n",
    ").agg(n_collaborators=_.count()).order_by(_.n_collaborators.desc())"
   ]
  },
  {
   "cell_type": "markdown",
   "id": "ecb90e44",
   "metadata": {},
   "source": [
    "### Finding the most popular transitive dependencies\n",
    "\n",
    "We can do this by using `.sql` to wrap a recursive CTE, then query it like a normal Ibis table. The recursive CTE will produce a table with a row for each package `package` and its recursive "
   ]
  },
  {
   "cell_type": "code",
   "execution_count": null,
   "id": "902ace7e",
   "metadata": {},
   "outputs": [],
   "source": [
    "transitive_deps = con.sql(\n",
    "    \"\"\"\n",
    "    WITH RECURSIVE\n",
    "    direct_deps(package, dependency) AS (\n",
    "      SELECT\n",
    "        package_name,\n",
    "        dep_name\n",
    "      FROM deps\n",
    "      WHERE\n",
    "        extra IS NULL\n",
    "    ),\n",
    "    transitive_deps(package, intermediate, dependency) AS (\n",
    "      SELECT\n",
    "        package,\n",
    "        package,\n",
    "        dependency\n",
    "      FROM direct_deps\n",
    "      UNION\n",
    "      SELECT\n",
    "        transitive_deps.package,\n",
    "        direct_deps.package,\n",
    "        direct_deps.dependency\n",
    "      FROM direct_deps\n",
    "      JOIN transitive_deps\n",
    "        ON direct_deps.package = transitive_deps.dependency\n",
    "    )\n",
    "    SELECT package, dependency FROM transitive_deps\n",
    "    \"\"\",\n",
    "    schema={\"package\": \"string\", \"dependency\": \"string\"},\n",
    ")"
   ]
  },
  {
   "cell_type": "code",
   "execution_count": null,
   "id": "0ee8a52c",
   "metadata": {},
   "outputs": [],
   "source": [
    "top_20_transitive_deps = (\n",
    "    transitive_deps.group_by(\"dependency\")\n",
    "    .agg(n_dependents=_.package.nunique())\n",
    "    .order_by(ibis.desc(\"n_dependents\"))\n",
    "    .limit(20)\n",
    ")"
   ]
  },
  {
   "cell_type": "code",
   "execution_count": null,
   "id": "e533ea9f",
   "metadata": {},
   "outputs": [],
   "source": [
    "top_20_transitive_deps"
   ]
  }
 ],
 "metadata": {
  "kernelspec": {
   "display_name": "Python 3 (ipykernel)",
   "language": "python",
   "name": "python3"
  },
  "language_info": {
   "codemirror_mode": {
    "name": "ipython",
    "version": 3
   },
   "file_extension": ".py",
   "mimetype": "text/x-python",
   "name": "python",
   "nbconvert_exporter": "python",
   "pygments_lexer": "ipython3",
   "version": "3.11.4"
  }
 },
 "nbformat": 4,
 "nbformat_minor": 5
}
